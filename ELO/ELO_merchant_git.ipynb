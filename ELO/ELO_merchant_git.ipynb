{
 "cells": [
  {
   "cell_type": "markdown",
   "metadata": {},
   "source": [
    "# ELO Merchant Cathegory Recomendation - Analysis for Kaggle\n",
    "\n",
    "## Description\n",
    "\n",
    "This challenge is about restaurant recommendations based on your personal preferences. Featuring credit card preferences.\n",
    "\n",
    "\n",
    "## Authors\n",
    "\n",
    "* Erika Muñoz: [emunozto](https://www.github.com/emunozto)\n",
    "* Jose Nandez: [jnandez](https://www.github.com/jnandez)"
   ]
  },
  {
   "cell_type": "code",
   "execution_count": 17,
   "metadata": {},
   "outputs": [],
   "source": [
    "import pandas as pd\n",
    "import numpy as np\n",
    "\n",
    "pd.options.mode.chained_assignment = None #avoid warnings of versions of pandas\n",
    "pd.set_option('display.max_columns',None) #display all the columns\n",
    "\n",
    "import matplotlib.pyplot as plt\n",
    "%matplotlib inline\n",
    "\n",
    "plt.rcParams['font.size']=24 # images runs with matplotlib\n",
    "\n",
    "from IPython.core.pylabtools import figsize \n",
    "import seaborn as sns\n",
    "sns.set(font_scale = 2)\n",
    "from sklearn.model_selection import train_test_split\n",
    "from sklearn.preprocessing import LabelEncoder\n",
    "\n",
    "from catboost import Pool,CatBoostRegressor"
   ]
  },
  {
   "cell_type": "markdown",
   "metadata": {},
   "source": [
    "## Exploring Data\n",
    "\n",
    "### Data Loading\n",
    "At first, we will load all the datasets from our buckets. Our data is located in the `data` folder"
   ]
  },
  {
   "cell_type": "code",
   "execution_count": 18,
   "metadata": {},
   "outputs": [
    {
     "name": "stdout",
     "output_type": "stream",
     "text": [
      "CPU times: user 307 ms, sys: 3.72 ms, total: 311 ms\n",
      "Wall time: 310 ms\n"
     ]
    }
   ],
   "source": [
    "%%time\n",
    "elo_frame = pd.read_csv('../data/train.csv')\n",
    "elo_test_data = pd.read_csv('../data/test.csv')\n",
    "#elo_histo_trans = pd.read_csv('../data/historical_transactions.csv')"
   ]
  },
  {
   "cell_type": "code",
   "execution_count": 19,
   "metadata": {},
   "outputs": [
    {
     "name": "stdout",
     "output_type": "stream",
     "text": [
      "<class 'pandas.core.frame.DataFrame'>\n",
      "RangeIndex: 201917 entries, 0 to 201916\n",
      "Data columns (total 6 columns):\n",
      "first_active_month    201917 non-null object\n",
      "card_id               201917 non-null object\n",
      "feature_1             201917 non-null int64\n",
      "feature_2             201917 non-null int64\n",
      "feature_3             201917 non-null int64\n",
      "target                201917 non-null float64\n",
      "dtypes: float64(1), int64(3), object(2)\n",
      "memory usage: 9.2+ MB\n"
     ]
    }
   ],
   "source": [
    "#we want to know a little bit more about the train dataset\n",
    "elo_frame.info()"
   ]
  },
  {
   "cell_type": "code",
   "execution_count": 20,
   "metadata": {},
   "outputs": [
    {
     "data": {
      "text/html": [
       "<div>\n",
       "<style scoped>\n",
       "    .dataframe tbody tr th:only-of-type {\n",
       "        vertical-align: middle;\n",
       "    }\n",
       "\n",
       "    .dataframe tbody tr th {\n",
       "        vertical-align: top;\n",
       "    }\n",
       "\n",
       "    .dataframe thead th {\n",
       "        text-align: right;\n",
       "    }\n",
       "</style>\n",
       "<table border=\"1\" class=\"dataframe\">\n",
       "  <thead>\n",
       "    <tr style=\"text-align: right;\">\n",
       "      <th></th>\n",
       "      <th>first_active_month</th>\n",
       "      <th>card_id</th>\n",
       "      <th>feature_1</th>\n",
       "      <th>feature_2</th>\n",
       "      <th>feature_3</th>\n",
       "      <th>target</th>\n",
       "    </tr>\n",
       "  </thead>\n",
       "  <tbody>\n",
       "    <tr>\n",
       "      <th>0</th>\n",
       "      <td>2017-06</td>\n",
       "      <td>C_ID_92a2005557</td>\n",
       "      <td>5</td>\n",
       "      <td>2</td>\n",
       "      <td>1</td>\n",
       "      <td>-0.820283</td>\n",
       "    </tr>\n",
       "    <tr>\n",
       "      <th>1</th>\n",
       "      <td>2017-01</td>\n",
       "      <td>C_ID_3d0044924f</td>\n",
       "      <td>4</td>\n",
       "      <td>1</td>\n",
       "      <td>0</td>\n",
       "      <td>0.392913</td>\n",
       "    </tr>\n",
       "    <tr>\n",
       "      <th>2</th>\n",
       "      <td>2016-08</td>\n",
       "      <td>C_ID_d639edf6cd</td>\n",
       "      <td>2</td>\n",
       "      <td>2</td>\n",
       "      <td>0</td>\n",
       "      <td>0.688056</td>\n",
       "    </tr>\n",
       "    <tr>\n",
       "      <th>3</th>\n",
       "      <td>2017-09</td>\n",
       "      <td>C_ID_186d6a6901</td>\n",
       "      <td>4</td>\n",
       "      <td>3</td>\n",
       "      <td>0</td>\n",
       "      <td>0.142495</td>\n",
       "    </tr>\n",
       "    <tr>\n",
       "      <th>4</th>\n",
       "      <td>2017-11</td>\n",
       "      <td>C_ID_cdbd2c0db2</td>\n",
       "      <td>1</td>\n",
       "      <td>3</td>\n",
       "      <td>0</td>\n",
       "      <td>-0.159749</td>\n",
       "    </tr>\n",
       "  </tbody>\n",
       "</table>\n",
       "</div>"
      ],
      "text/plain": [
       "  first_active_month          card_id  feature_1  feature_2  feature_3  \\\n",
       "0            2017-06  C_ID_92a2005557          5          2          1   \n",
       "1            2017-01  C_ID_3d0044924f          4          1          0   \n",
       "2            2016-08  C_ID_d639edf6cd          2          2          0   \n",
       "3            2017-09  C_ID_186d6a6901          4          3          0   \n",
       "4            2017-11  C_ID_cdbd2c0db2          1          3          0   \n",
       "\n",
       "     target  \n",
       "0 -0.820283  \n",
       "1  0.392913  \n",
       "2  0.688056  \n",
       "3  0.142495  \n",
       "4 -0.159749  "
      ]
     },
     "execution_count": 20,
     "metadata": {},
     "output_type": "execute_result"
    }
   ],
   "source": [
    "#let's take a pick to the first 5 records in the training set\n",
    "elo_frame.head()"
   ]
  },
  {
   "cell_type": "code",
   "execution_count": 21,
   "metadata": {},
   "outputs": [
    {
     "data": {
      "text/plain": [
       "first_active_month        75\n",
       "card_id               201917\n",
       "feature_1                  5\n",
       "feature_2                  3\n",
       "feature_3                  2\n",
       "target                197110\n",
       "dtype: int64"
      ]
     },
     "execution_count": 21,
     "metadata": {},
     "output_type": "execute_result"
    }
   ],
   "source": [
    "#let's check whether we have categorical variables, indices.\n",
    "elo_frame.nunique()"
   ]
  },
  {
   "cell_type": "code",
   "execution_count": null,
   "metadata": {},
   "outputs": [],
   "source": [
    "#let's check the historical data\n",
    "elo_histo_trans.info()"
   ]
  },
  {
   "cell_type": "code",
   "execution_count": null,
   "metadata": {},
   "outputs": [],
   "source": [
    "elo_histo_trans.head()"
   ]
  },
  {
   "cell_type": "code",
   "execution_count": null,
   "metadata": {},
   "outputs": [],
   "source": [
    "elo_histo_trans.describe()"
   ]
  },
  {
   "cell_type": "code",
   "execution_count": null,
   "metadata": {},
   "outputs": [],
   "source": [
    "elo_histo_trans.nunique()"
   ]
  },
  {
   "cell_type": "markdown",
   "metadata": {},
   "source": [
    "### Check for missing data"
   ]
  },
  {
   "cell_type": "code",
   "execution_count": 22,
   "metadata": {},
   "outputs": [
    {
     "data": {
      "text/plain": [
       "first_active_month    0\n",
       "card_id               0\n",
       "feature_1             0\n",
       "feature_2             0\n",
       "feature_3             0\n",
       "target                0\n",
       "dtype: int64"
      ]
     },
     "execution_count": 22,
     "metadata": {},
     "output_type": "execute_result"
    }
   ],
   "source": [
    "#training set\n",
    "elo_frame.isna().sum()"
   ]
  },
  {
   "cell_type": "code",
   "execution_count": 23,
   "metadata": {},
   "outputs": [
    {
     "data": {
      "text/plain": [
       "first_active_month    1\n",
       "card_id               0\n",
       "feature_1             0\n",
       "feature_2             0\n",
       "feature_3             0\n",
       "dtype: int64"
      ]
     },
     "execution_count": 23,
     "metadata": {},
     "output_type": "execute_result"
    }
   ],
   "source": [
    "#test set\n",
    "elo_test_data.isna().sum()"
   ]
  },
  {
   "cell_type": "code",
   "execution_count": null,
   "metadata": {},
   "outputs": [],
   "source": [
    "elo_histo_trans.isna().sum() #missing data"
   ]
  },
  {
   "cell_type": "code",
   "execution_count": null,
   "metadata": {},
   "outputs": [],
   "source": [
    "elo_histo_trans.isna().sum()/len(elo_histo_trans) *100"
   ]
  },
  {
   "cell_type": "markdown",
   "metadata": {},
   "source": [
    "##### We get rid of any missing `merchant_id` due to those data may be rejected or incomplete transactions."
   ]
  },
  {
   "cell_type": "code",
   "execution_count": null,
   "metadata": {},
   "outputs": [],
   "source": [
    "elo_histo_trans = elo_histo_trans.dropna(subset=['merchant_id'])"
   ]
  },
  {
   "cell_type": "markdown",
   "metadata": {},
   "source": [
    "## Data visualization"
   ]
  },
  {
   "cell_type": "code",
   "execution_count": 24,
   "metadata": {},
   "outputs": [
    {
     "data": {
      "image/png": "[encoded data removed]",
      "text/plain": [
       "<Figure size 720x720 with 1 Axes>"
      ]
     },
     "metadata": {},
     "output_type": "display_data"
    }
   ],
   "source": [
    "figsize(10,10)\n",
    "plt.hist(elo_frame['target'],bins = 40);"
   ]
  },
  {
   "cell_type": "code",
   "execution_count": 25,
   "metadata": {},
   "outputs": [
    {
     "data": {
      "text/plain": [
       "count    201917.000000\n",
       "mean         -0.393636\n",
       "std           3.850500\n",
       "min         -33.219281\n",
       "25%          -0.883110\n",
       "50%          -0.023437\n",
       "75%           0.765453\n",
       "max          17.965068\n",
       "Name: target, dtype: float64"
      ]
     },
     "execution_count": 25,
     "metadata": {},
     "output_type": "execute_result"
    }
   ],
   "source": [
    "elo_frame.describe()['target']"
   ]
  },
  {
   "cell_type": "markdown",
   "metadata": {},
   "source": [
    "#### Clearly we observed extreme outliers in the target, this will be difficult to model."
   ]
  },
  {
   "cell_type": "code",
   "execution_count": 26,
   "metadata": {},
   "outputs": [
    {
     "data": {
      "text/plain": [
       "<matplotlib.axes._subplots.AxesSubplot at 0x7f4eb5c68940>"
      ]
     },
     "execution_count": 26,
     "metadata": {},
     "output_type": "execute_result"
    },
    {
     "data": {
      "image/png": "[encoded data removed]",
      "text/plain": [
       "<Figure size 720x720 with 1 Axes>"
      ]
     },
     "metadata": {},
     "output_type": "display_data"
    }
   ],
   "source": [
    "pd.to_datetime(elo_frame.first_active_month).dt.month.value_counts().plot(kind='bar')"
   ]
  },
  {
   "cell_type": "code",
   "execution_count": 27,
   "metadata": {},
   "outputs": [
    {
     "data": {
      "text/plain": [
       "<matplotlib.axes._subplots.AxesSubplot at 0x7f4eb5bdf160>"
      ]
     },
     "execution_count": 27,
     "metadata": {},
     "output_type": "execute_result"
    },
    {
     "data": {
      "image/png": "[encoded data removed]",
      "text/plain": [
       "<Figure size 720x720 with 1 Axes>"
      ]
     },
     "metadata": {},
     "output_type": "display_data"
    }
   ],
   "source": [
    "pd.to_datetime(elo_frame.first_active_month).dt.year.value_counts().plot(kind='bar')"
   ]
  },
  {
   "cell_type": "markdown",
   "metadata": {},
   "source": [
    "## Feature Engineering\n",
    "We will start by splitting the `first_active_month` into `month` and `year`, these will be treated as a categorical variables for now. We also noted previously, we have 1 record in the test set with a missing `first_active_month`. We will fill this record with the most active month from the training set. Thereafter, we want to apply a `LabelEncoder` so our cat variables are better understood by CatBoost."
   ]
  },
  {
   "cell_type": "code",
   "execution_count": 28,
   "metadata": {},
   "outputs": [],
   "source": [
    "elo_frame['month'] = pd.to_datetime(elo_frame.first_active_month).dt.month\n",
    "elo_frame['year']  = pd.to_datetime(elo_frame.first_active_month).dt.year\n",
    "\n",
    "elo_test_data          = elo_test_data.fillna(elo_frame.first_active_month.value_counts().index[0])#fill null\n",
    "elo_test_data['month'] = pd.to_datetime(elo_test_data.first_active_month).dt.month\n",
    "elo_test_data['year']  = pd.to_datetime(elo_test_data.first_active_month).dt.year"
   ]
  },
  {
   "cell_type": "code",
   "execution_count": 29,
   "metadata": {},
   "outputs": [
    {
     "data": {
      "text/html": [
       "<div>\n",
       "<style scoped>\n",
       "    .dataframe tbody tr th:only-of-type {\n",
       "        vertical-align: middle;\n",
       "    }\n",
       "\n",
       "    .dataframe tbody tr th {\n",
       "        vertical-align: top;\n",
       "    }\n",
       "\n",
       "    .dataframe thead th {\n",
       "        text-align: right;\n",
       "    }\n",
       "</style>\n",
       "<table border=\"1\" class=\"dataframe\">\n",
       "  <thead>\n",
       "    <tr style=\"text-align: right;\">\n",
       "      <th></th>\n",
       "      <th>first_active_month</th>\n",
       "      <th>card_id</th>\n",
       "      <th>feature_1</th>\n",
       "      <th>feature_2</th>\n",
       "      <th>feature_3</th>\n",
       "      <th>target</th>\n",
       "      <th>month</th>\n",
       "      <th>year</th>\n",
       "    </tr>\n",
       "  </thead>\n",
       "  <tbody>\n",
       "    <tr>\n",
       "      <th>0</th>\n",
       "      <td>2017-06</td>\n",
       "      <td>C_ID_92a2005557</td>\n",
       "      <td>5</td>\n",
       "      <td>2</td>\n",
       "      <td>1</td>\n",
       "      <td>-0.820283</td>\n",
       "      <td>6</td>\n",
       "      <td>2017</td>\n",
       "    </tr>\n",
       "    <tr>\n",
       "      <th>1</th>\n",
       "      <td>2017-01</td>\n",
       "      <td>C_ID_3d0044924f</td>\n",
       "      <td>4</td>\n",
       "      <td>1</td>\n",
       "      <td>0</td>\n",
       "      <td>0.392913</td>\n",
       "      <td>1</td>\n",
       "      <td>2017</td>\n",
       "    </tr>\n",
       "  </tbody>\n",
       "</table>\n",
       "</div>"
      ],
      "text/plain": [
       "  first_active_month          card_id  feature_1  feature_2  feature_3  \\\n",
       "0            2017-06  C_ID_92a2005557          5          2          1   \n",
       "1            2017-01  C_ID_3d0044924f          4          1          0   \n",
       "\n",
       "     target  month  year  \n",
       "0 -0.820283      6  2017  \n",
       "1  0.392913      1  2017  "
      ]
     },
     "execution_count": 29,
     "metadata": {},
     "output_type": "execute_result"
    }
   ],
   "source": [
    "elo_frame.head(2)"
   ]
  },
  {
   "cell_type": "markdown",
   "metadata": {},
   "source": [
    "### Aggregate Historical Data"
   ]
  },
  {
   "cell_type": "code",
   "execution_count": 30,
   "metadata": {},
   "outputs": [],
   "source": [
    "def f_grouping(group):\n",
    "    return {'diff_merc_cat': group['merchant_category_id'].nunique()}"
   ]
  },
  {
   "cell_type": "code",
   "execution_count": 31,
   "metadata": {},
   "outputs": [],
   "source": [
    "#not working for now\n",
    "#elo_histo_trans.groupby('card_id').apply(f_grouping)"
   ]
  },
  {
   "cell_type": "code",
   "execution_count": 32,
   "metadata": {},
   "outputs": [],
   "source": [
    "#Label encoder\n",
    "var_cat = ['feature_1','feature_2','feature_3','month']\n",
    "for columna in var_cat:\n",
    "    le = LabelEncoder()\n",
    "    le.fit(elo_frame[columna])\n",
    "    elo_frame[columna] = le.transform(elo_frame[columna])   \n",
    "    elo_test_data[columna] = le.transform(elo_test_data[columna])"
   ]
  },
  {
   "cell_type": "code",
   "execution_count": 33,
   "metadata": {},
   "outputs": [
    {
     "data": {
      "text/html": [
       "<div>\n",
       "<style scoped>\n",
       "    .dataframe tbody tr th:only-of-type {\n",
       "        vertical-align: middle;\n",
       "    }\n",
       "\n",
       "    .dataframe tbody tr th {\n",
       "        vertical-align: top;\n",
       "    }\n",
       "\n",
       "    .dataframe thead th {\n",
       "        text-align: right;\n",
       "    }\n",
       "</style>\n",
       "<table border=\"1\" class=\"dataframe\">\n",
       "  <thead>\n",
       "    <tr style=\"text-align: right;\">\n",
       "      <th></th>\n",
       "      <th>first_active_month</th>\n",
       "      <th>card_id</th>\n",
       "      <th>feature_1</th>\n",
       "      <th>feature_2</th>\n",
       "      <th>feature_3</th>\n",
       "      <th>target</th>\n",
       "      <th>month</th>\n",
       "      <th>year</th>\n",
       "    </tr>\n",
       "  </thead>\n",
       "  <tbody>\n",
       "    <tr>\n",
       "      <th>0</th>\n",
       "      <td>2017-06</td>\n",
       "      <td>C_ID_92a2005557</td>\n",
       "      <td>4</td>\n",
       "      <td>1</td>\n",
       "      <td>1</td>\n",
       "      <td>-0.820283</td>\n",
       "      <td>5</td>\n",
       "      <td>2017</td>\n",
       "    </tr>\n",
       "    <tr>\n",
       "      <th>1</th>\n",
       "      <td>2017-01</td>\n",
       "      <td>C_ID_3d0044924f</td>\n",
       "      <td>3</td>\n",
       "      <td>0</td>\n",
       "      <td>0</td>\n",
       "      <td>0.392913</td>\n",
       "      <td>0</td>\n",
       "      <td>2017</td>\n",
       "    </tr>\n",
       "  </tbody>\n",
       "</table>\n",
       "</div>"
      ],
      "text/plain": [
       "  first_active_month          card_id  feature_1  feature_2  feature_3  \\\n",
       "0            2017-06  C_ID_92a2005557          4          1          1   \n",
       "1            2017-01  C_ID_3d0044924f          3          0          0   \n",
       "\n",
       "     target  month  year  \n",
       "0 -0.820283      5  2017  \n",
       "1  0.392913      0  2017  "
      ]
     },
     "execution_count": 33,
     "metadata": {},
     "output_type": "execute_result"
    }
   ],
   "source": [
    "elo_frame.head(2)"
   ]
  },
  {
   "cell_type": "markdown",
   "metadata": {},
   "source": [
    "### Split into training and testing sets"
   ]
  },
  {
   "cell_type": "code",
   "execution_count": 34,
   "metadata": {},
   "outputs": [],
   "source": [
    "X_train,X_test, y_train, y_test = train_test_split(elo_frame[['feature_1','feature_2','feature_3','month','year']],\n",
    "                                                   elo_frame['target'],\n",
    "                                                   test_size = 0.2,\n",
    "                                                   random_state = 42\n",
    "                                                  )"
   ]
  },
  {
   "cell_type": "markdown",
   "metadata": {},
   "source": [
    "## Stablishing a baseline model\n",
    "\n",
    "### Metric  \n",
    "\n",
    "Elo Merchant competition uses the following cost function\n",
    "\n",
    "$$RMSE = \\sqrt{\\frac{\\sum_{i=1}^n(\\hat{y}_i-y_i)^2}{n}}$$"
   ]
  },
  {
   "cell_type": "code",
   "execution_count": 35,
   "metadata": {},
   "outputs": [],
   "source": [
    "def rmse(y_pred,y_real): \n",
    "    return np.sqrt(np.mean((y_pred-y_real)**2))"
   ]
  },
  {
   "cell_type": "code",
   "execution_count": 36,
   "metadata": {},
   "outputs": [
    {
     "name": "stdout",
     "output_type": "stream",
     "text": [
      "The mean guess(baseline) over train set is  'target' =-0.39\n",
      "The performance of my mean guess (baseline) over the test set is = 3.8761\n"
     ]
    }
   ],
   "source": [
    "base_line = np.mean(y_train)\n",
    "print('The mean guess(baseline) over train set is  \\'target\\' ={0:0.2}'.format(base_line))\n",
    "print('The performance of my mean guess (baseline) over the test set is = {0:0.5}'.format(rmse(base_line,y_test))) "
   ]
  },
  {
   "cell_type": "markdown",
   "metadata": {},
   "source": [
    "## Applying a Boosting Tree Model\n",
    "\n",
    "We will use `CatBoost` as an estimator since we have lots of cat variables in this training set."
   ]
  },
  {
   "cell_type": "code",
   "execution_count": 37,
   "metadata": {},
   "outputs": [],
   "source": [
    "list_cat_var = [] \n",
    "for column in var_cat:\n",
    "    list_cat_var.append(list(X_train.columns).index(column))    "
   ]
  },
  {
   "cell_type": "code",
   "execution_count": 38,
   "metadata": {},
   "outputs": [],
   "source": [
    "pool_train = Pool(X_train,y_train,cat_features=list_cat_var)\n",
    "pool_test = Pool(X_test,y_test,cat_features=list_cat_var)"
   ]
  },
  {
   "cell_type": "code",
   "execution_count": 39,
   "metadata": {},
   "outputs": [],
   "source": [
    "model = CatBoostRegressor(iterations = 1000,\n",
    "                          learning_rate = 0.1,\n",
    "                          depth = 9,\n",
    "                          loss_function='RMSE',\n",
    "                          rsm = 0.8,\n",
    "                          od_wait = 10,\n",
    "                          od_type = 'Iter')"
   ]
  },
  {
   "cell_type": "code",
   "execution_count": 40,
   "metadata": {},
   "outputs": [
    {
     "name": "stdout",
     "output_type": "stream",
     "text": [
      "0:\tlearn: 3.8596348\ttest: 3.8919657\tbest: 3.8919657 (0)\ttotal: 114ms\tremaining: 1m 54s\n",
      "1:\tlearn: 3.8559868\ttest: 3.8882669\tbest: 3.8882669 (1)\ttotal: 195ms\tremaining: 1m 37s\n",
      "2:\tlearn: 3.8529808\ttest: 3.8852930\tbest: 3.8852930 (2)\ttotal: 245ms\tremaining: 1m 21s\n",
      "3:\tlearn: 3.8495925\ttest: 3.8821792\tbest: 3.8821792 (3)\ttotal: 360ms\tremaining: 1m 29s\n",
      "4:\tlearn: 3.8468043\ttest: 3.8794949\tbest: 3.8794949 (4)\ttotal: 460ms\tremaining: 1m 31s\n",
      "5:\tlearn: 3.8448662\ttest: 3.8774484\tbest: 3.8774484 (5)\ttotal: 495ms\tremaining: 1m 22s\n",
      "6:\tlearn: 3.8437892\ttest: 3.8763555\tbest: 3.8763555 (6)\ttotal: 507ms\tremaining: 1m 11s\n",
      "7:\tlearn: 3.8429166\ttest: 3.8754677\tbest: 3.8754677 (7)\ttotal: 519ms\tremaining: 1m 4s\n",
      "8:\tlearn: 3.8420280\ttest: 3.8744956\tbest: 3.8744956 (8)\ttotal: 543ms\tremaining: 59.8s\n",
      "9:\tlearn: 3.8409374\ttest: 3.8733469\tbest: 3.8733469 (9)\ttotal: 571ms\tremaining: 56.5s\n",
      "10:\tlearn: 3.8398883\ttest: 3.8723350\tbest: 3.8723350 (10)\ttotal: 651ms\tremaining: 58.6s\n",
      "11:\tlearn: 3.8395123\ttest: 3.8719472\tbest: 3.8719472 (11)\ttotal: 664ms\tremaining: 54.7s\n",
      "12:\tlearn: 3.8386060\ttest: 3.8711737\tbest: 3.8711737 (12)\ttotal: 754ms\tremaining: 57.2s\n",
      "13:\tlearn: 3.8383592\ttest: 3.8709160\tbest: 3.8709160 (13)\ttotal: 770ms\tremaining: 54.2s\n",
      "14:\tlearn: 3.8374452\ttest: 3.8703122\tbest: 3.8703122 (14)\ttotal: 904ms\tremaining: 59.4s\n",
      "15:\tlearn: 3.8366522\ttest: 3.8698047\tbest: 3.8698047 (15)\ttotal: 995ms\tremaining: 1m 1s\n",
      "16:\tlearn: 3.8361050\ttest: 3.8695126\tbest: 3.8695126 (16)\ttotal: 1.11s\tremaining: 1m 4s\n",
      "17:\tlearn: 3.8354158\ttest: 3.8691413\tbest: 3.8691413 (17)\ttotal: 1.23s\tremaining: 1m 7s\n",
      "18:\tlearn: 3.8347523\ttest: 3.8687498\tbest: 3.8687498 (18)\ttotal: 1.33s\tremaining: 1m 8s\n",
      "19:\tlearn: 3.8343059\ttest: 3.8684988\tbest: 3.8684988 (19)\ttotal: 1.41s\tremaining: 1m 9s\n",
      "20:\tlearn: 3.8338209\ttest: 3.8683808\tbest: 3.8683808 (20)\ttotal: 1.5s\tremaining: 1m 9s\n",
      "21:\tlearn: 3.8337749\ttest: 3.8683299\tbest: 3.8683299 (21)\ttotal: 1.52s\tremaining: 1m 7s\n",
      "22:\tlearn: 3.8336132\ttest: 3.8681854\tbest: 3.8681854 (22)\ttotal: 1.62s\tremaining: 1m 8s\n",
      "23:\tlearn: 3.8333696\ttest: 3.8680407\tbest: 3.8680407 (23)\ttotal: 1.73s\tremaining: 1m 10s\n",
      "24:\tlearn: 3.8330573\ttest: 3.8678759\tbest: 3.8678759 (24)\ttotal: 1.85s\tremaining: 1m 12s\n",
      "25:\tlearn: 3.8328898\ttest: 3.8678214\tbest: 3.8678214 (25)\ttotal: 2.07s\tremaining: 1m 17s\n",
      "26:\tlearn: 3.8325511\ttest: 3.8676801\tbest: 3.8676801 (26)\ttotal: 2.21s\tremaining: 1m 19s\n",
      "27:\tlearn: 3.8321306\ttest: 3.8675448\tbest: 3.8675448 (27)\ttotal: 2.33s\tremaining: 1m 20s\n",
      "28:\tlearn: 3.8319367\ttest: 3.8675377\tbest: 3.8675377 (28)\ttotal: 2.42s\tremaining: 1m 21s\n",
      "29:\tlearn: 3.8318649\ttest: 3.8675515\tbest: 3.8675377 (28)\ttotal: 2.51s\tremaining: 1m 21s\n",
      "30:\tlearn: 3.8313526\ttest: 3.8675528\tbest: 3.8675377 (28)\ttotal: 2.62s\tremaining: 1m 22s\n",
      "31:\tlearn: 3.8311442\ttest: 3.8674996\tbest: 3.8674996 (31)\ttotal: 2.7s\tremaining: 1m 21s\n",
      "32:\tlearn: 3.8310304\ttest: 3.8674834\tbest: 3.8674834 (32)\ttotal: 2.76s\tremaining: 1m 20s\n",
      "33:\tlearn: 3.8309173\ttest: 3.8674851\tbest: 3.8674834 (32)\ttotal: 2.82s\tremaining: 1m 20s\n",
      "34:\tlearn: 3.8307075\ttest: 3.8674687\tbest: 3.8674687 (34)\ttotal: 2.94s\tremaining: 1m 20s\n",
      "35:\tlearn: 3.8304232\ttest: 3.8674179\tbest: 3.8674179 (35)\ttotal: 3s\tremaining: 1m 20s\n",
      "36:\tlearn: 3.8302311\ttest: 3.8673539\tbest: 3.8673539 (36)\ttotal: 3.08s\tremaining: 1m 20s\n",
      "37:\tlearn: 3.8300511\ttest: 3.8673319\tbest: 3.8673319 (37)\ttotal: 3.14s\tremaining: 1m 19s\n",
      "38:\tlearn: 3.8298107\ttest: 3.8672929\tbest: 3.8672929 (38)\ttotal: 3.22s\tremaining: 1m 19s\n",
      "39:\tlearn: 3.8295387\ttest: 3.8673114\tbest: 3.8672929 (38)\ttotal: 3.29s\tremaining: 1m 18s\n",
      "40:\tlearn: 3.8294386\ttest: 3.8672714\tbest: 3.8672714 (40)\ttotal: 3.36s\tremaining: 1m 18s\n",
      "41:\tlearn: 3.8292672\ttest: 3.8672532\tbest: 3.8672532 (41)\ttotal: 3.43s\tremaining: 1m 18s\n",
      "42:\tlearn: 3.8288656\ttest: 3.8672757\tbest: 3.8672532 (41)\ttotal: 3.54s\tremaining: 1m 18s\n",
      "43:\tlearn: 3.8288398\ttest: 3.8672558\tbest: 3.8672532 (41)\ttotal: 3.6s\tremaining: 1m 18s\n",
      "44:\tlearn: 3.8287279\ttest: 3.8672532\tbest: 3.8672532 (41)\ttotal: 3.66s\tremaining: 1m 17s\n",
      "45:\tlearn: 3.8285906\ttest: 3.8672418\tbest: 3.8672418 (45)\ttotal: 3.71s\tremaining: 1m 16s\n",
      "46:\tlearn: 3.8285852\ttest: 3.8672332\tbest: 3.8672332 (46)\ttotal: 3.73s\tremaining: 1m 15s\n",
      "47:\tlearn: 3.8283722\ttest: 3.8672408\tbest: 3.8672332 (46)\ttotal: 3.81s\tremaining: 1m 15s\n",
      "48:\tlearn: 3.8283468\ttest: 3.8672381\tbest: 3.8672332 (46)\ttotal: 3.88s\tremaining: 1m 15s\n",
      "49:\tlearn: 3.8281241\ttest: 3.8672027\tbest: 3.8672027 (49)\ttotal: 3.94s\tremaining: 1m 14s\n",
      "50:\tlearn: 3.8280148\ttest: 3.8672108\tbest: 3.8672027 (49)\ttotal: 4s\tremaining: 1m 14s\n",
      "51:\tlearn: 3.8278809\ttest: 3.8672056\tbest: 3.8672027 (49)\ttotal: 4.08s\tremaining: 1m 14s\n",
      "52:\tlearn: 3.8273955\ttest: 3.8672367\tbest: 3.8672027 (49)\ttotal: 4.15s\tremaining: 1m 14s\n",
      "53:\tlearn: 3.8270830\ttest: 3.8672607\tbest: 3.8672027 (49)\ttotal: 4.22s\tremaining: 1m 13s\n",
      "54:\tlearn: 3.8270209\ttest: 3.8672694\tbest: 3.8672027 (49)\ttotal: 4.26s\tremaining: 1m 13s\n",
      "55:\tlearn: 3.8269109\ttest: 3.8672592\tbest: 3.8672027 (49)\ttotal: 4.34s\tremaining: 1m 13s\n",
      "56:\tlearn: 3.8268710\ttest: 3.8672590\tbest: 3.8672027 (49)\ttotal: 4.39s\tremaining: 1m 12s\n",
      "57:\tlearn: 3.8267852\ttest: 3.8672691\tbest: 3.8672027 (49)\ttotal: 4.45s\tremaining: 1m 12s\n",
      "58:\tlearn: 3.8266183\ttest: 3.8673226\tbest: 3.8672027 (49)\ttotal: 4.51s\tremaining: 1m 11s\n",
      "59:\tlearn: 3.8265280\ttest: 3.8673024\tbest: 3.8672027 (49)\ttotal: 4.59s\tremaining: 1m 11s\n",
      "Stopped by overfitting detector  (10 iterations wait)\n",
      "\n",
      "bestTest = 3.867202738\n",
      "bestIteration = 49\n",
      "\n",
      "Shrink model to first 50 iterations.\n"
     ]
    },
    {
     "data": {
      "text/plain": [
       "<catboost.core.CatBoostRegressor at 0x7f4eb5a5a668>"
      ]
     },
     "execution_count": 40,
     "metadata": {},
     "output_type": "execute_result"
    }
   ],
   "source": [
    "model.fit(pool_train,eval_set=pool_test)"
   ]
  },
  {
   "cell_type": "code",
   "execution_count": 41,
   "metadata": {},
   "outputs": [],
   "source": [
    "preds = model.predict(pool_test)"
   ]
  },
  {
   "cell_type": "code",
   "execution_count": 42,
   "metadata": {},
   "outputs": [
    {
     "name": "stdout",
     "output_type": "stream",
     "text": [
      "The performance of catboost over the test set is = 3.8672\n"
     ]
    }
   ],
   "source": [
    "print('The performance of catboost over the test set is = {0:0.5}'.format(rmse(preds,y_test))) "
   ]
  },
  {
   "cell_type": "markdown",
   "metadata": {},
   "source": [
    "As seen in one of the above cells, the `baseline` model performance was `3.8761` whilst the `CatBoost`'s is `3.8672` which means that Machine Learning can be applied to this particular case study."
   ]
  },
  {
   "cell_type": "markdown",
   "metadata": {},
   "source": [
    "## Feature importance\n",
    "This section will help us to understand whether a feature is relevant to the model or not at all. It can also help us understand if we need to do hypertunning."
   ]
  },
  {
   "cell_type": "code",
   "execution_count": 43,
   "metadata": {},
   "outputs": [
    {
     "data": {
      "image/png": "[encoded data removed]",
      "text/plain": [
       "<Figure size 576x432 with 1 Axes>"
      ]
     },
     "metadata": {},
     "output_type": "display_data"
    }
   ],
   "source": [
    "importances = model.feature_importances_\n",
    "indices = np.argsort(importances)\n",
    "\n",
    "figsize(8,6)\n",
    "plt.barh(range(X_train.shape[1]), importances[indices],\n",
    "       color=\"r\", align=\"center\")\n",
    "plt.yticks(range(X_train.shape[1]), X_train.columns[indices])\n",
    "plt.ylim([-1, X_train.shape[1]]);"
   ]
  },
  {
   "cell_type": "markdown",
   "metadata": {},
   "source": [
    "In this exercise, we have assume that `month` is a categorical variable."
   ]
  },
  {
   "cell_type": "markdown",
   "metadata": {},
   "source": [
    "## Preparing submission for Kaggle"
   ]
  },
  {
   "cell_type": "code",
   "execution_count": 44,
   "metadata": {},
   "outputs": [],
   "source": [
    "X_test    = elo_test_data[['feature_1','feature_2','feature_3','month','year']]\n",
    "pool_test = Pool(X_test,cat_features = list_cat_var)"
   ]
  },
  {
   "cell_type": "code",
   "execution_count": 45,
   "metadata": {},
   "outputs": [],
   "source": [
    "y_preds = model.predict(pool_test)"
   ]
  },
  {
   "cell_type": "code",
   "execution_count": 46,
   "metadata": {},
   "outputs": [],
   "source": [
    "pd.DataFrame({'card_id':elo_test_data.card_id,'target':y_preds}).to_csv('ELO_submission.csv',index=None)"
   ]
  },
  {
   "cell_type": "markdown",
   "metadata": {},
   "source": [
    "## Conclusion\n",
    "\n",
    "We have used `CatBoost` to naively model Elo Marchant Kaggle Competition. We assumed that `month` is a categorical variable, and we did not make use of historical data in this version. In order to improve the model, we will need to make further feature engineering on the historical data, and also try to make statistics in the `first_active_month`, since the feature importance analysis showed that this feature is very important for predicting the `target`."
   ]
  },
  {
   "cell_type": "code",
   "execution_count": null,
   "metadata": {},
   "outputs": [],
   "source": []
  }
 ],
 "metadata": {
  "kernelspec": {
   "display_name": "Python 3",
   "language": "python",
   "name": "python3"
  },
  "language_info": {
   "codemirror_mode": {
    "name": "ipython",
    "version": 3
   },
   "file_extension": ".py",
   "mimetype": "text/x-python",
   "name": "python",
   "nbconvert_exporter": "python",
   "pygments_lexer": "ipython3",
   "version": "3.7.0"
  }
 },
 "nbformat": 4,
 "nbformat_minor": 2
}
